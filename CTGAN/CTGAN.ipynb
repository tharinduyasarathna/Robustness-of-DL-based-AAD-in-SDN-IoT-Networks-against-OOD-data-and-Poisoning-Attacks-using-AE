{
 "cells": [
  {
   "cell_type": "code",
   "execution_count": null,
   "id": "5b47b3ac",
   "metadata": {},
   "outputs": [],
   "source": [
    "# import the lib\n",
    "from ctgan import CTGAN\n",
    "from ctgan import load_demo"
   ]
  },
  {
   "cell_type": "code",
   "execution_count": null,
   "id": "7edfead5",
   "metadata": {},
   "outputs": [],
   "source": [
    "# Load the data\n",
    "data_clean = pd.read_csv('cleansample_cicids2017.csv') # use each data set one by one\n",
    "\n",
    "# # Load the data\n",
    "# data_clean = pd.read_csv('cleansample_ciciot23.csv')\n",
    "\n",
    "# # Load the data\n",
    "# data_clean = pd.read_csv('cleansample_insdn.csv')"
   ]
  },
  {
   "cell_type": "code",
   "execution_count": null,
   "id": "b65f429f",
   "metadata": {},
   "outputs": [],
   "source": [
    "# prep\n",
    "dataCT=data_clean.sample(n=5000, random_state=42)"
   ]
  },
  {
   "cell_type": "code",
   "execution_count": null,
   "id": "43a88df5",
   "metadata": {},
   "outputs": [],
   "source": [
    "# model traning\n",
    "ctgan = CTGAN(verbose=True)\n",
    "ctgan.fit(dataCT,epochs=500)"
   ]
  },
  {
   "cell_type": "code",
   "execution_count": null,
   "id": "008d4f15",
   "metadata": {},
   "outputs": [],
   "source": [
    "# ood data gen\n",
    "synthetic_data_500e = ctgan.sample(10000)\n",
    "synthetic_data_500e.to_csv('ctgan_cicids2017_ood.csv', index=False) # update csv file anme based on your data set"
   ]
  }
 ],
 "metadata": {
  "language_info": {
   "name": "python"
  }
 },
 "nbformat": 4,
 "nbformat_minor": 5
}
