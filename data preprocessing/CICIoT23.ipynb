{
 "cells": [
  {
   "cell_type": "code",
   "execution_count": 1,
   "id": "730712b3",
   "metadata": {},
   "outputs": [],
   "source": [
    "import os\n",
    "import numpy as np\n",
    "import pandas as pd\n",
    "\n",
    "\n",
    "\n",
    "import pickle # saving and loading trained model\n",
    "from os import path\n",
    "\n",
    "# importing required libraries for normalizing data\n",
    "from sklearn import preprocessing\n",
    "from sklearn.preprocessing import StandardScaler\n",
    "\n",
    "# importing library for plotting\n",
    "import matplotlib.pyplot as plt\n",
    "import seaborn as sn\n",
    "\n",
    "from sklearn import metrics\n",
    "from sklearn.metrics import accuracy_score # for calculating accuracy of model\n",
    "from sklearn.model_selection import train_test_split # for splitting the dataset for training and testing\n",
    "from sklearn.metrics import classification_report # for generating a classification report of model\n",
    "\n",
    "from sklearn.metrics import precision_score\n",
    "from sklearn.metrics import recall_score\n",
    "from sklearn.metrics import f1_score\n",
    "from sklearn.metrics import confusion_matrix\n",
    "\n",
    "from sklearn.metrics import roc_auc_score\n",
    "from sklearn.metrics import roc_curve, auc\n",
    "\n",
    "import tensorflow as tf\n",
    "from tensorflow import keras\n",
    "\n",
    "import tensorflow  as keras\n",
    "from tensorflow.keras.models import Sequential\n",
    "from tensorflow.keras.layers import Conv1D, MaxPooling1D, Flatten, Dense, Dropout, Activation\n",
    "from tensorflow.keras import optimizers\n",
    "from tensorflow.keras.callbacks import EarlyStopping, ReduceLROnPlateau\n"
   ]
  },
  {
   "cell_type": "code",
   "execution_count": 18,
   "id": "31360edb",
   "metadata": {},
   "outputs": [],
   "source": [
    "import pandas as pd\n",
    "import glob\n",
    "\n",
    "path = r'D:/PhD exp/Datasets/CICIoT2023/CICIoT2023' # use your path\n",
    "all_files = glob.glob(path + \"/*.csv\")\n",
    "\n",
    "li = []\n",
    "\n",
    "for filename in all_files:\n",
    "    df = pd.read_csv(filename, encoding='cp1252', index_col=None, header=0, low_memory=False)\n",
    "    li.append(df)\n",
    "    print(\"Read Completed for \", filename)\n",
    "\n",
    "df = pd.concat(li, axis=0, ignore_index=True)\n",
    "\n",
    "df = df.rename(columns={'label': 'Label'})"
   ]
  },
  {
   "cell_type": "code",
   "execution_count": 19,
   "id": "9b975291",
   "metadata": {},
   "outputs": [],
   "source": [
    "df.describe()"
   ]
  },
  {
   "cell_type": "code",
   "execution_count": 20,
   "id": "2af027c4",
   "metadata": {},
   "outputs": [],
   "source": [
    "df.info()"
   ]
  },
  {
   "cell_type": "code",
   "execution_count": 21,
   "id": "41e15936",
   "metadata": {},
   "outputs": [],
   "source": [
    "df.head()"
   ]
  },
  {
   "cell_type": "code",
   "execution_count": 22,
   "id": "d688c8e4",
   "metadata": {},
   "outputs": [],
   "source": [
    "df[\"Label\"].value_counts()"
   ]
  },
  {
   "cell_type": "code",
   "execution_count": 23,
   "id": "00de6045",
   "metadata": {},
   "outputs": [],
   "source": [
    "# Filter out rows with labels other than 'BENIGN' and 'DDoS'\n",
    "df = df[df['Label'].isin(['Benign', 'DDoS'])]\n",
    "\n",
    "# Display the filtered DataFrame\n",
    "# Display the updated label counts\n",
    "print(df['Label'].value_counts())"
   ]
  },
  {
   "cell_type": "code",
   "execution_count": 24,
   "id": "c92d4f1c",
   "metadata": {},
   "outputs": [],
   "source": [
    "print(df.shape)"
   ]
  },
  {
   "cell_type": "code",
   "execution_count": 25,
   "id": "3cd52d86",
   "metadata": {},
   "outputs": [],
   "source": [
    "#drop na values and reset index\n",
    "data_clean = df.dropna().reset_index()\n",
    "\n",
    "# Checkng for DUPLICATE values\n",
    "data_clean.drop_duplicates(keep='first', inplace = True)\n",
    "\n",
    "data_clean['Label'].value_counts()\n",
    "\n",
    "print(\"Read {} rows.\".format(len(data_clean)))"
   ]
  },
  {
   "cell_type": "code",
   "execution_count": 26,
   "id": "06dfde98",
   "metadata": {},
   "outputs": [],
   "source": [
    "from sklearn.model_selection import train_test_split\n",
    "from sklearn.preprocessing import OneHotEncoder, StandardScaler, LabelEncoder\n",
    "# label encoding\n",
    "labelencoder = LabelEncoder()\n",
    "data_clean['Label'] = labelencoder.fit_transform(data_clean['Label'])\n",
    "\n",
    "data_clean['Label'].value_counts()\n",
    "data = data_clean\n",
    "\n",
    "\n",
    "\n",
    "\n",
    "\n",
    "# Drop non-numeric columns if necessary\n",
    "data = data.drop(columns=[ 'index'])  # Adjust column names as needed\n",
    "\n",
    "# Handle infinities\n",
    "data.replace([np.inf, -np.inf], np.nan, inplace=True)\n",
    "\n",
    "# Fill NaNs with column mean\n",
    "data.fillna(data.mean(), inplace=True)\n",
    "\n",
    "# Check for any remaining NaNs\n",
    "print(\"Remaining NaNs:\", data.isna().sum().sum())\n",
    "\n",
    "data.info()"
   ]
  },
  {
   "cell_type": "code",
   "execution_count": 27,
   "id": "409c95c5",
   "metadata": {},
   "outputs": [],
   "source": [
    "data.head()"
   ]
  },
  {
   "cell_type": "code",
   "execution_count": 28,
   "id": "334bcd90",
   "metadata": {},
   "outputs": [],
   "source": [
    "from sklearn.ensemble import ExtraTreesClassifier\n",
    "print(\"ETC\")\n",
    "dt = ExtraTreesClassifier(n_estimators=300, random_state=5, max_depth=30)\n",
    "\n",
    "yy =  data['Label'].values\n",
    "XX =data.drop(columns=['Label'])\n",
    "\n",
    "\n",
    "# Training the model\n",
    "from sklearn.ensemble import ExtraTreesClassifier\n",
    "from sklearn.feature_selection import SelectFromModel\n",
    "\n",
    "\n",
    "dt.fit(XX,yy)\n",
    "# Get the feature importances\n",
    "feature_importances = dt.feature_importances_\n",
    "\n",
    "# Create a DataFrame with feature names and importances\n",
    "df_feature_importances = pd.DataFrame({'Feature': XX.columns, 'Importance': feature_importances})\n",
    "\n",
    "# Sort the DataFrame by importance in descending order\n",
    "df_feature_importances = df_feature_importances.sort_values(by='Importance', ascending=False)\n",
    "\n",
    "# Extract the top 30 important features\n",
    "selected_features = df_feature_importances.head(30)['Feature'].tolist()"
   ]
  },
  {
   "cell_type": "code",
   "execution_count": 29,
   "id": "9170a6fc",
   "metadata": {},
   "outputs": [],
   "source": [
    "selected_features.append('Label')\n",
    "selected_features"
   ]
  },
  {
   "cell_type": "code",
   "execution_count": 30,
   "id": "8809e892",
   "metadata": {},
   "outputs": [],
   "source": [
    "# Create a new DataFrame with the selected features\n",
    "data = data[selected_features]"
   ]
  },
  {
   "cell_type": "code",
   "execution_count": 31,
   "id": "6ddb460c",
   "metadata": {},
   "outputs": [],
   "source": [
    "data.head()"
   ]
  },
  {
   "cell_type": "code",
   "execution_count": 32,
   "id": "6c68e585",
   "metadata": {},
   "outputs": [],
   "source": [
    "data_ciciot23 = data\n",
    "# Display the shape of the random sample\n",
    "print(data_ciciot23.shape)"
   ]
  },
  {
   "cell_type": "code",
   "execution_count": 33,
   "id": "6df25784",
   "metadata": {},
   "outputs": [],
   "source": [
    "print(data_ciciot23['Label'].value_counts())"
   ]
  },
  {
   "cell_type": "code",
   "execution_count": 34,
   "id": "778ea55d",
   "metadata": {},
   "outputs": [],
   "source": [
    "#save cleaned data sample to csv\n",
    "data_ciciot23.to_csv('cleansample_ciciot23.csv', index=False)"
   ]
  },
  {
   "cell_type": "code",
   "execution_count": null,
   "id": "dcf07455",
   "metadata": {},
   "outputs": [],
   "source": []
  }
 ],
 "metadata": {
  "kernelspec": {
   "display_name": "Python 3 (ipykernel)",
   "language": "python",
   "name": "python3"
  }
 },
 "nbformat": 4,
 "nbformat_minor": 5
}
